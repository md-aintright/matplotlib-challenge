{
 "cells": [
  {
   "cell_type": "markdown",
   "metadata": {},
   "source": [
    "## Observations and Insights "
   ]
  },
  {
   "cell_type": "markdown",
   "metadata": {},
   "source": []
  },
  {
   "cell_type": "code",
   "execution_count": 3,
   "metadata": {},
   "outputs": [],
   "source": [
    "# Dependencies and Setup\n",
    "import matplotlib.pyplot as plt\n",
    "import pandas as pd\n",
    "import scipy.stats as st\n",
    "\n",
    "# Study data files\n",
    "mouse_metadata_path = \"data/Mouse_metadata.csv\"\n",
    "study_results_path = \"data/Study_results.csv\"\n",
    "\n",
    "# Read the mouse data and the study results\n",
    "mouse_metadata = pd.read_csv(mouse_metadata_path)\n",
    "study_results = pd.read_csv(study_results_path)\n",
    "\n",
    "# Combine the data into a single dataset\n",
    "mouse_study = pd.merge(mouse_metadata, study_results, on='Mouse ID')"
   ]
  },
  {
   "cell_type": "code",
   "execution_count": 17,
   "metadata": {},
   "outputs": [
    {
     "data": {
      "text/plain": [
       "1893"
      ]
     },
     "execution_count": 17,
     "metadata": {},
     "output_type": "execute_result"
    }
   ],
   "source": [
    "# Checking the number of mice in the DataFrame.\n",
    "mouse_study['Mouse ID'].count()"
   ]
  },
  {
   "cell_type": "code",
   "execution_count": 18,
   "metadata": {},
   "outputs": [
    {
     "data": {
      "text/plain": [
       "g989    13\n",
       "y163    10\n",
       "g791    10\n",
       "r701    10\n",
       "a411    10\n",
       "        ..\n",
       "u153     1\n",
       "n482     1\n",
       "t573     1\n",
       "h428     1\n",
       "v199     1\n",
       "Name: Mouse ID, Length: 249, dtype: int64"
      ]
     },
     "execution_count": 18,
     "metadata": {},
     "output_type": "execute_result"
    }
   ],
   "source": [
    "# Getting the duplicate mice by ID number that shows up for Mouse ID and Timepoint. \n",
    "mouse_study['Mouse ID'].value_counts()"
   ]
  },
  {
   "cell_type": "code",
   "execution_count": 19,
   "metadata": {},
   "outputs": [],
   "source": [
    "# Optional: Get all the data for the duplicate mouse ID. \n"
   ]
  },
  {
   "cell_type": "code",
   "execution_count": 36,
   "metadata": {},
   "outputs": [],
   "source": [
    "# Create a clean DataFrame by dropping the duplicate mouse by its ID.\n",
    "unique_mouse_study = mouse_study.copy()\n",
    "unique_mouse_study.drop_duplicates(subset= 'Mouse ID', keep ='last', inplace = True)"
   ]
  },
  {
   "cell_type": "code",
   "execution_count": 37,
   "metadata": {},
   "outputs": [
    {
     "data": {
      "text/plain": [
       "249"
      ]
     },
     "execution_count": 37,
     "metadata": {},
     "output_type": "execute_result"
    }
   ],
   "source": [
    "# Checking the number of mice in the clean DataFrame.\n",
    "unique_mouse_study['Mouse ID'].count()"
   ]
  },
  {
   "cell_type": "markdown",
   "metadata": {},
   "source": [
    "## Summary Statistics"
   ]
  },
  {
   "cell_type": "code",
   "execution_count": 40,
   "metadata": {},
   "outputs": [
    {
     "data": {
      "text/html": [
       "<div>\n",
       "<style scoped>\n",
       "    .dataframe tbody tr th:only-of-type {\n",
       "        vertical-align: middle;\n",
       "    }\n",
       "\n",
       "    .dataframe tbody tr th {\n",
       "        vertical-align: top;\n",
       "    }\n",
       "\n",
       "    .dataframe thead th {\n",
       "        text-align: right;\n",
       "    }\n",
       "</style>\n",
       "<table border=\"1\" class=\"dataframe\">\n",
       "  <thead>\n",
       "    <tr style=\"text-align: right;\">\n",
       "      <th></th>\n",
       "      <th>Placebo</th>\n",
       "      <th>Capomulin</th>\n",
       "      <th>Zoniferol</th>\n",
       "      <th>Infubinol</th>\n",
       "      <th>Ramicane</th>\n",
       "      <th>Ceftamin</th>\n",
       "      <th>Propriva</th>\n",
       "      <th>Naftisol</th>\n",
       "      <th>Ketapril</th>\n",
       "      <th>Stelasyn</th>\n",
       "    </tr>\n",
       "  </thead>\n",
       "  <tbody>\n",
       "    <tr>\n",
       "      <th>Mean</th>\n",
       "      <td>60.508414</td>\n",
       "      <td>60.508414</td>\n",
       "      <td>60.508414</td>\n",
       "      <td>60.508414</td>\n",
       "      <td>60.508414</td>\n",
       "      <td>60.508414</td>\n",
       "      <td>60.508414</td>\n",
       "      <td>60.508414</td>\n",
       "      <td>60.508414</td>\n",
       "      <td>60.508414</td>\n",
       "    </tr>\n",
       "    <tr>\n",
       "      <th>Median</th>\n",
       "      <td>62.030594</td>\n",
       "      <td>62.030594</td>\n",
       "      <td>62.030594</td>\n",
       "      <td>62.030594</td>\n",
       "      <td>62.030594</td>\n",
       "      <td>62.030594</td>\n",
       "      <td>62.030594</td>\n",
       "      <td>62.030594</td>\n",
       "      <td>62.030594</td>\n",
       "      <td>62.030594</td>\n",
       "    </tr>\n",
       "    <tr>\n",
       "      <th>Variance</th>\n",
       "      <td>78.759797</td>\n",
       "      <td>78.759797</td>\n",
       "      <td>78.759797</td>\n",
       "      <td>78.759797</td>\n",
       "      <td>78.759797</td>\n",
       "      <td>78.759797</td>\n",
       "      <td>78.759797</td>\n",
       "      <td>78.759797</td>\n",
       "      <td>78.759797</td>\n",
       "      <td>78.759797</td>\n",
       "    </tr>\n",
       "    <tr>\n",
       "      <th>STD</th>\n",
       "      <td>8.874672</td>\n",
       "      <td>8.874672</td>\n",
       "      <td>8.874672</td>\n",
       "      <td>8.874672</td>\n",
       "      <td>8.874672</td>\n",
       "      <td>8.874672</td>\n",
       "      <td>8.874672</td>\n",
       "      <td>8.874672</td>\n",
       "      <td>8.874672</td>\n",
       "      <td>8.874672</td>\n",
       "    </tr>\n",
       "    <tr>\n",
       "      <th>SEM</th>\n",
       "      <td>1.774934</td>\n",
       "      <td>1.774934</td>\n",
       "      <td>1.774934</td>\n",
       "      <td>1.774934</td>\n",
       "      <td>1.774934</td>\n",
       "      <td>1.774934</td>\n",
       "      <td>1.774934</td>\n",
       "      <td>1.774934</td>\n",
       "      <td>1.774934</td>\n",
       "      <td>1.774934</td>\n",
       "    </tr>\n",
       "  </tbody>\n",
       "</table>\n",
       "</div>"
      ],
      "text/plain": [
       "            Placebo  Capomulin  Zoniferol  Infubinol   Ramicane   Ceftamin  \\\n",
       "Mean      60.508414  60.508414  60.508414  60.508414  60.508414  60.508414   \n",
       "Median    62.030594  62.030594  62.030594  62.030594  62.030594  62.030594   \n",
       "Variance  78.759797  78.759797  78.759797  78.759797  78.759797  78.759797   \n",
       "STD        8.874672   8.874672   8.874672   8.874672   8.874672   8.874672   \n",
       "SEM        1.774934   1.774934   1.774934   1.774934   1.774934   1.774934   \n",
       "\n",
       "           Propriva   Naftisol   Ketapril   Stelasyn  \n",
       "Mean      60.508414  60.508414  60.508414  60.508414  \n",
       "Median    62.030594  62.030594  62.030594  62.030594  \n",
       "Variance  78.759797  78.759797  78.759797  78.759797  \n",
       "STD        8.874672   8.874672   8.874672   8.874672  \n",
       "SEM        1.774934   1.774934   1.774934   1.774934  "
      ]
     },
     "execution_count": 40,
     "metadata": {},
     "output_type": "execute_result"
    }
   ],
   "source": [
    "# Generate a summary statistics table of mean, median, variance, standard deviation, and SEM of the tumor volume for each regimen\n",
    "\n",
    "# This method is the most straightforward, creating multiple series and putting them all together at the end.\n",
    "placebo = unique_mouse_study.loc[unique_mouse_study['Drug Regimen'] == 'Placebo']\n",
    "pl_summary = []\n",
    "pl_summary.append(placebo['Tumor Volume (mm3)'].mean())\n",
    "pl_summary.append(placebo['Tumor Volume (mm3)'].median())\n",
    "pl_summary.append(placebo['Tumor Volume (mm3)'].var())\n",
    "pl_summary.append(placebo['Tumor Volume (mm3)'].std())\n",
    "pl_summary.append(placebo['Tumor Volume (mm3)'].sem())\n",
    "pl_summary_series = pd.Series(pl_summary, index=['Mean', 'Median', 'Variance', 'STD', 'SEM'])\n",
    "\n",
    "capomulin = unique_mouse_study.loc[unique_mouse_study['Drug Regimen'] == 'Capomulin']\n",
    "c_summary = []\n",
    "c_summary.append(placebo['Tumor Volume (mm3)'].mean())\n",
    "c_summary.append(placebo['Tumor Volume (mm3)'].median())\n",
    "c_summary.append(placebo['Tumor Volume (mm3)'].var())\n",
    "c_summary.append(placebo['Tumor Volume (mm3)'].std())\n",
    "c_summary.append(placebo['Tumor Volume (mm3)'].sem())\n",
    "c_summary_series = pd.Series(c_summary, index=['Mean', 'Median', 'Variance', 'STD', 'SEM'])\n",
    "\n",
    "zoniferol = unique_mouse_study.loc[unique_mouse_study['Drug Regimen'] == 'Zoniferol']\n",
    "z_summary = []\n",
    "z_summary.append(placebo['Tumor Volume (mm3)'].mean())\n",
    "z_summary.append(placebo['Tumor Volume (mm3)'].median())\n",
    "z_summary.append(placebo['Tumor Volume (mm3)'].var())\n",
    "z_summary.append(placebo['Tumor Volume (mm3)'].std())\n",
    "z_summary.append(placebo['Tumor Volume (mm3)'].sem())\n",
    "z_summary_series = pd.Series(z_summary, index=['Mean', 'Median', 'Variance', 'STD', 'SEM'])\n",
    "\n",
    "infubinol = unique_mouse_study.loc[unique_mouse_study['Drug Regimen'] == 'Infubinol']\n",
    "i_summary = []\n",
    "i_summary.append(placebo['Tumor Volume (mm3)'].mean())\n",
    "i_summary.append(placebo['Tumor Volume (mm3)'].median())\n",
    "i_summary.append(placebo['Tumor Volume (mm3)'].var())\n",
    "i_summary.append(placebo['Tumor Volume (mm3)'].std())\n",
    "i_summary.append(placebo['Tumor Volume (mm3)'].sem())\n",
    "i_summary_series = pd.Series(i_summary, index=['Mean', 'Median', 'Variance', 'STD', 'SEM'])\n",
    "\n",
    "ramicane = unique_mouse_study.loc[unique_mouse_study['Drug Regimen'] == 'Ramicane']\n",
    "r_summary = []\n",
    "r_summary.append(placebo['Tumor Volume (mm3)'].mean())\n",
    "r_summary.append(placebo['Tumor Volume (mm3)'].median())\n",
    "r_summary.append(placebo['Tumor Volume (mm3)'].var())\n",
    "r_summary.append(placebo['Tumor Volume (mm3)'].std())\n",
    "r_summary.append(placebo['Tumor Volume (mm3)'].sem())\n",
    "r_summary_series = pd.Series(r_summary, index=['Mean', 'Median', 'Variance', 'STD', 'SEM'])\n",
    "\n",
    "ceftamin = unique_mouse_study.loc[unique_mouse_study['Drug Regimen'] == 'Ceftamin']\n",
    "ce_summary = []\n",
    "ce_summary.append(placebo['Tumor Volume (mm3)'].mean())\n",
    "ce_summary.append(placebo['Tumor Volume (mm3)'].median())\n",
    "ce_summary.append(placebo['Tumor Volume (mm3)'].var())\n",
    "ce_summary.append(placebo['Tumor Volume (mm3)'].std())\n",
    "ce_summary.append(placebo['Tumor Volume (mm3)'].sem())\n",
    "ce_summary_series = pd.Series(ce_summary, index=['Mean', 'Median', 'Variance', 'STD', 'SEM'])\n",
    "\n",
    "propriva = unique_mouse_study.loc[unique_mouse_study['Drug Regimen'] == 'Propriva']\n",
    "pr_summary = []\n",
    "pr_summary.append(placebo['Tumor Volume (mm3)'].mean())\n",
    "pr_summary.append(placebo['Tumor Volume (mm3)'].median())\n",
    "pr_summary.append(placebo['Tumor Volume (mm3)'].var())\n",
    "pr_summary.append(placebo['Tumor Volume (mm3)'].std())\n",
    "pr_summary.append(placebo['Tumor Volume (mm3)'].sem())\n",
    "pr_summary_series = pd.Series(pr_summary, index=['Mean', 'Median', 'Variance', 'STD', 'SEM'])\n",
    "\n",
    "naftisol = unique_mouse_study.loc[unique_mouse_study['Drug Regimen'] == 'Naftisol']\n",
    "na_summary = []\n",
    "na_summary.append(placebo['Tumor Volume (mm3)'].mean())\n",
    "na_summary.append(placebo['Tumor Volume (mm3)'].median())\n",
    "na_summary.append(placebo['Tumor Volume (mm3)'].var())\n",
    "na_summary.append(placebo['Tumor Volume (mm3)'].std())\n",
    "na_summary.append(placebo['Tumor Volume (mm3)'].sem())\n",
    "na_summary_series = pd.Series(na_summary, index=['Mean', 'Median', 'Variance', 'STD', 'SEM'])\n",
    "\n",
    "ketapril = unique_mouse_study.loc[unique_mouse_study['Drug Regimen'] == 'Ketapril']\n",
    "ke_summary = []\n",
    "ke_summary.append(placebo['Tumor Volume (mm3)'].mean())\n",
    "ke_summary.append(placebo['Tumor Volume (mm3)'].median())\n",
    "ke_summary.append(placebo['Tumor Volume (mm3)'].var())\n",
    "ke_summary.append(placebo['Tumor Volume (mm3)'].std())\n",
    "ke_summary.append(placebo['Tumor Volume (mm3)'].sem())\n",
    "ke_summary_series = pd.Series(ke_summary, index=['Mean', 'Median', 'Variance', 'STD', 'SEM'])\n",
    "\n",
    "stelasyn = unique_mouse_study.loc[unique_mouse_study['Drug Regimen'] == 'Stelasyn']\n",
    "st_summary = []\n",
    "st_summary.append(placebo['Tumor Volume (mm3)'].mean())\n",
    "st_summary.append(placebo['Tumor Volume (mm3)'].median())\n",
    "st_summary.append(placebo['Tumor Volume (mm3)'].var())\n",
    "st_summary.append(placebo['Tumor Volume (mm3)'].std())\n",
    "st_summary.append(placebo['Tumor Volume (mm3)'].sem())\n",
    "st_summary_series = pd.Series(st_summary, index=['Mean', 'Median', 'Variance', 'STD', 'SEM'])\n",
    "\n",
    "summary_stats = pd.DataFrame({'Placebo': pl_summary_series, \n",
    "                              'Capomulin': c_summary_series, \n",
    "                              'Zoniferol': z_summary_series, \n",
    "                              'Infubinol': i_summary_series,\n",
    "                              'Ramicane': r_summary_series,\n",
    "                              'Ceftamin': ce_summary_series, \n",
    "                              'Propriva': pr_summary_series, \n",
    "                              'Naftisol': na_summary_series, \n",
    "                              'Ketapril': ke_summary_series, \n",
    "                              'Stelasyn': st_summary_series })\n",
    "summary_stats\n",
    "\n"
   ]
  },
  {
   "cell_type": "code",
   "execution_count": 45,
   "metadata": {
    "scrolled": true
   },
   "outputs": [
    {
     "data": {
      "text/html": [
       "<div>\n",
       "<style scoped>\n",
       "    .dataframe tbody tr th:only-of-type {\n",
       "        vertical-align: middle;\n",
       "    }\n",
       "\n",
       "    .dataframe tbody tr th {\n",
       "        vertical-align: top;\n",
       "    }\n",
       "\n",
       "    .dataframe thead th {\n",
       "        text-align: right;\n",
       "    }\n",
       "</style>\n",
       "<table border=\"1\" class=\"dataframe\">\n",
       "  <thead>\n",
       "    <tr style=\"text-align: right;\">\n",
       "      <th></th>\n",
       "      <th>mean</th>\n",
       "      <th>median</th>\n",
       "      <th>var</th>\n",
       "      <th>std</th>\n",
       "      <th>sem</th>\n",
       "    </tr>\n",
       "    <tr>\n",
       "      <th>Drug Regimen</th>\n",
       "      <th></th>\n",
       "      <th></th>\n",
       "      <th></th>\n",
       "      <th></th>\n",
       "      <th></th>\n",
       "    </tr>\n",
       "  </thead>\n",
       "  <tbody>\n",
       "    <tr>\n",
       "      <th>Capomulin</th>\n",
       "      <td>36.667568</td>\n",
       "      <td>38.125164</td>\n",
       "      <td>32.663378</td>\n",
       "      <td>5.715188</td>\n",
       "      <td>1.143038</td>\n",
       "    </tr>\n",
       "    <tr>\n",
       "      <th>Ceftamin</th>\n",
       "      <td>57.753977</td>\n",
       "      <td>59.851956</td>\n",
       "      <td>69.982735</td>\n",
       "      <td>8.365568</td>\n",
       "      <td>1.673114</td>\n",
       "    </tr>\n",
       "    <tr>\n",
       "      <th>Infubinol</th>\n",
       "      <td>58.178246</td>\n",
       "      <td>60.165180</td>\n",
       "      <td>74.010875</td>\n",
       "      <td>8.602957</td>\n",
       "      <td>1.720591</td>\n",
       "    </tr>\n",
       "    <tr>\n",
       "      <th>Ketapril</th>\n",
       "      <td>62.806191</td>\n",
       "      <td>64.487812</td>\n",
       "      <td>98.921330</td>\n",
       "      <td>9.945920</td>\n",
       "      <td>1.989184</td>\n",
       "    </tr>\n",
       "    <tr>\n",
       "      <th>Naftisol</th>\n",
       "      <td>61.205757</td>\n",
       "      <td>63.283288</td>\n",
       "      <td>106.029927</td>\n",
       "      <td>10.297083</td>\n",
       "      <td>2.059417</td>\n",
       "    </tr>\n",
       "    <tr>\n",
       "      <th>Placebo</th>\n",
       "      <td>60.508414</td>\n",
       "      <td>62.030594</td>\n",
       "      <td>78.759797</td>\n",
       "      <td>8.874672</td>\n",
       "      <td>1.774934</td>\n",
       "    </tr>\n",
       "    <tr>\n",
       "      <th>Propriva</th>\n",
       "      <td>56.736964</td>\n",
       "      <td>55.841410</td>\n",
       "      <td>69.349002</td>\n",
       "      <td>8.327605</td>\n",
       "      <td>1.665521</td>\n",
       "    </tr>\n",
       "    <tr>\n",
       "      <th>Ramicane</th>\n",
       "      <td>36.191390</td>\n",
       "      <td>36.561652</td>\n",
       "      <td>32.166354</td>\n",
       "      <td>5.671539</td>\n",
       "      <td>1.134308</td>\n",
       "    </tr>\n",
       "    <tr>\n",
       "      <th>Stelasyn</th>\n",
       "      <td>61.001707</td>\n",
       "      <td>62.192350</td>\n",
       "      <td>90.331586</td>\n",
       "      <td>9.504293</td>\n",
       "      <td>1.940056</td>\n",
       "    </tr>\n",
       "    <tr>\n",
       "      <th>Zoniferol</th>\n",
       "      <td>59.181258</td>\n",
       "      <td>61.840058</td>\n",
       "      <td>76.862027</td>\n",
       "      <td>8.767099</td>\n",
       "      <td>1.753420</td>\n",
       "    </tr>\n",
       "  </tbody>\n",
       "</table>\n",
       "</div>"
      ],
      "text/plain": [
       "                   mean     median         var        std       sem\n",
       "Drug Regimen                                                       \n",
       "Capomulin     36.667568  38.125164   32.663378   5.715188  1.143038\n",
       "Ceftamin      57.753977  59.851956   69.982735   8.365568  1.673114\n",
       "Infubinol     58.178246  60.165180   74.010875   8.602957  1.720591\n",
       "Ketapril      62.806191  64.487812   98.921330   9.945920  1.989184\n",
       "Naftisol      61.205757  63.283288  106.029927  10.297083  2.059417\n",
       "Placebo       60.508414  62.030594   78.759797   8.874672  1.774934\n",
       "Propriva      56.736964  55.841410   69.349002   8.327605  1.665521\n",
       "Ramicane      36.191390  36.561652   32.166354   5.671539  1.134308\n",
       "Stelasyn      61.001707  62.192350   90.331586   9.504293  1.940056\n",
       "Zoniferol     59.181258  61.840058   76.862027   8.767099  1.753420"
      ]
     },
     "execution_count": 45,
     "metadata": {},
     "output_type": "execute_result"
    }
   ],
   "source": [
    "# Generate a summary statistics table of mean, median, variance, standard deviation, and SEM of the tumor volume for each regimen\n",
    "\n",
    "# This method produces everything in a single groupby function.\n",
    "pl_summary_series = pd.Series(pl_summary, index=['Mean', 'Median', 'Variance', 'STD', 'SEM'])\n",
    "\n",
    "summary_stats_2 = unique_mouse_study.groupby('Drug Regimen')['Tumor Volume (mm3)'].agg(['mean', 'median', 'var', 'std', 'sem'])\n",
    "\n",
    "summary_stats_2"
   ]
  },
  {
   "cell_type": "markdown",
   "metadata": {},
   "source": [
    "## Bar Plots"
   ]
  },
  {
   "cell_type": "code",
   "execution_count": 144,
   "metadata": {},
   "outputs": [
    {
     "data": {
      "text/plain": [
       "<matplotlib.axes._subplots.AxesSubplot at 0x119af916908>"
      ]
     },
     "execution_count": 144,
     "metadata": {},
     "output_type": "execute_result"
    },
    {
     "data": {
      "image/png": "[encoded data removed]",
      "text/plain": [
       "<Figure size 432x288 with 1 Axes>"
      ]
     },
     "metadata": {
      "needs_background": "light"
     },
     "output_type": "display_data"
    }
   ],
   "source": [
    "# Generate a bar plot showing the number of mice per time point for each treatment throughout the course of the study using pandas.\n",
    "#treatment_group = unique_mouse_study.groupby('Drug Regimen')\n",
    "count_timepoint = unique_mouse_study[['Timepoint', 'Drug Regimen']]\n",
    "count_timepoint = count_timepoint.set_index('Drug Regimen')\n",
    "count_timepoint.plot(kind='bar')"
   ]
  },
  {
   "cell_type": "code",
   "execution_count": 116,
   "metadata": {},
   "outputs": [
    {
     "data": {
      "text/plain": [
       "<BarContainer object of 76 artists>"
      ]
     },
     "execution_count": 116,
     "metadata": {},
     "output_type": "execute_result"
    },
    {
     "data": {
      "image/png": "[encoded data removed]",
      "text/plain": [
       "<Figure size 432x288 with 1 Axes>"
      ]
     },
     "metadata": {
      "needs_background": "light"
     },
     "output_type": "display_data"
    }
   ],
   "source": [
    "# Generate a bar plot showing the number of mice per time point for each treatment throughout the course of the study using pyplot.\n",
    "time_df = pd.DataFrame(count_timepoint)\n",
    "time_df.rename(columns = {'Timepoint': 'Number of Mice'}, inplace = True)\n",
    "time_df = time_df.reset_index()\n",
    "x_axis = time_df['Drug Regimen']\n",
    "plt.bar(x_axis, count_timepoint)"
   ]
  },
  {
   "cell_type": "markdown",
   "metadata": {},
   "source": [
    "## Pie Plots"
   ]
  },
  {
   "cell_type": "code",
   "execution_count": 68,
   "metadata": {},
   "outputs": [
    {
     "data": {
      "text/plain": [
       "<matplotlib.axes._subplots.AxesSubplot at 0x119adc036a0>"
      ]
     },
     "execution_count": 68,
     "metadata": {},
     "output_type": "execute_result"
    },
    {
     "data": {
      "image/png": "[encoded data removed]",
      "text/plain": [
       "<Figure size 432x288 with 1 Axes>"
      ]
     },
     "metadata": {},
     "output_type": "display_data"
    }
   ],
   "source": [
    "# Generate a pie plot showing the distribution of female versus male mice using pandas\n",
    "unique_mouse_study['Sex'].value_counts().plot(kind='pie')\n"
   ]
  },
  {
   "cell_type": "code",
   "execution_count": 91,
   "metadata": {},
   "outputs": [
    {
     "data": {
      "text/plain": [
       "([<matplotlib.patches.Wedge at 0x119ade32320>,\n",
       "  <matplotlib.patches.Wedge at 0x119ade32828>],\n",
       " [Text(-0.0069391759767656585, 1.0999781124353174, 'Male'),\n",
       "  Text(0.006939175976765524, -1.0999781124353174, 'Female')])"
      ]
     },
     "execution_count": 91,
     "metadata": {},
     "output_type": "execute_result"
    },
    {
     "data": {
      "image/png": "[encoded data removed]",
      "text/plain": [
       "<Figure size 432x288 with 1 Axes>"
      ]
     },
     "metadata": {},
     "output_type": "display_data"
    }
   ],
   "source": [
    "# Generate a pie plot showing the distribution of female versus male mice using pyplot\n",
    "gender_df = pd.DataFrame(unique_mouse_study['Sex'].value_counts())\n",
    "gender_df = gender_df.reset_index()\n",
    "labels = gender_df['index']\n",
    "sizes = gender_df['Sex']\n",
    "plt.pie(sizes, labels=labels)"
   ]
  },
  {
   "cell_type": "markdown",
   "metadata": {},
   "source": [
    "## Quartiles, Outliers and Boxplots"
   ]
  },
  {
   "cell_type": "code",
   "execution_count": 113,
   "metadata": {},
   "outputs": [
    {
     "name": "stdout",
     "output_type": "stream",
     "text": [
      "The lower quartile of tumor volume is: 23.020229970000003\n",
      "The upper quartile of tumor volume is: 38.49100935\n",
      "The interquartile range of tumor volume is: 15.470779379999996\n",
      "The the median of tumor volume is: 29.832471835 \n",
      "Values below -0.1859390999999917 could be outliers.\n",
      "Values above 61.69717841999999 could be outliers.\n",
      "No outliers\n"
     ]
    }
   ],
   "source": [
    "# Calculate the final tumor volume of each mouse across four of the most promising treatment regimens. Calculate the IQR and quantitatively determine if there are any potential outliers. \n",
    "final = unique_mouse_study.copy()\n",
    "final = final.sort_values(by=['Tumor Volume (mm3)'], ascending=True)\n",
    "final.drop_duplicates(subset= 'Drug Regimen', keep ='first', inplace = True)\n",
    "final = final.head(4)\n",
    "volume = final['Tumor Volume (mm3)']\n",
    "quartiles = volume.quantile([.25,.5,.75])\n",
    "lowerq = quartiles[0.25]\n",
    "upperq = quartiles[0.75]\n",
    "iqr = upperq-lowerq \n",
    "\n",
    "print(f\"The lower quartile of tumor volume is: {lowerq}\")\n",
    "print(f\"The upper quartile of tumor volume is: {upperq}\")\n",
    "print(f\"The interquartile range of tumor volume is: {iqr}\")\n",
    "print(f\"The the median of tumor volume is: {quartiles[0.5]} \")\n",
    "\n",
    "lower_bound = lowerq - (1.5*iqr)\n",
    "upper_bound = upperq + (1.5*iqr)\n",
    "print(f\"Values below {lower_bound} could be outliers.\")\n",
    "print(f\"Values above {upper_bound} could be outliers.\")\n",
    "print(\"No outliers\")\n",
    "\n"
   ]
  },
  {
   "cell_type": "code",
   "execution_count": 114,
   "metadata": {},
   "outputs": [
    {
     "data": {
      "image/png": "[encoded data removed]",
      "text/plain": [
       "<Figure size 432x288 with 1 Axes>"
      ]
     },
     "metadata": {
      "needs_background": "light"
     },
     "output_type": "display_data"
    }
   ],
   "source": [
    "# Generate a box plot of the final tumor volume of each mouse across four regimens of interest\n",
    "fig1, ax1 = plt.subplots()\n",
    "ax1.set_title('final tumor volume')\n",
    "ax1.set_ylabel('volume size')\n",
    "ax1.boxplot(volume)\n",
    "plt.show()"
   ]
  },
  {
   "cell_type": "markdown",
   "metadata": {},
   "source": [
    "## Line and Scatter Plots"
   ]
  },
  {
   "cell_type": "code",
   "execution_count": 120,
   "metadata": {},
   "outputs": [
    {
     "data": {
      "text/plain": [
       "[<matplotlib.lines.Line2D at 0x119adceba58>]"
      ]
     },
     "execution_count": 120,
     "metadata": {},
     "output_type": "execute_result"
    },
    {
     "data": {
      "image/png": "[encoded data removed]",
      "text/plain": [
       "<Figure size 432x288 with 1 Axes>"
      ]
     },
     "metadata": {
      "needs_background": "light"
     },
     "output_type": "display_data"
    }
   ],
   "source": [
    "# Generate a line plot of time point versus tumor volume for a mouse treated with Capomulin\n",
    "x2_axis = unique_mouse_study['Timepoint']\n",
    "y_values = unique_mouse_study['Tumor Volume (mm3)']\n",
    "plt.plot(x2_axis, y_values)"
   ]
  },
  {
   "cell_type": "code",
   "execution_count": 123,
   "metadata": {},
   "outputs": [
    {
     "data": {
      "text/plain": [
       "<matplotlib.collections.PathCollection at 0x119accc5080>"
      ]
     },
     "execution_count": 123,
     "metadata": {},
     "output_type": "execute_result"
    },
    {
     "data": {
      "image/png": "[encoded data removed]",
      "text/plain": [
       "<Figure size 432x288 with 1 Axes>"
      ]
     },
     "metadata": {
      "needs_background": "light"
     },
     "output_type": "display_data"
    }
   ],
   "source": [
    "# Generate a scatter plot of mouse weight versus average tumor volume for the Capomulin regimen\n",
    "scatter_df = unique_mouse_study.loc[unique_mouse_study['Drug Regimen'] == 'Capomulin']\n",
    "x3_axis = scatter_df['Weight (g)']\n",
    "y1_values = scatter_df['Tumor Volume (mm3)']\n",
    "plt.scatter(x3_axis, y1_values)\n"
   ]
  },
  {
   "cell_type": "markdown",
   "metadata": {},
   "source": [
    "## Correlation and Regression"
   ]
  },
  {
   "cell_type": "code",
   "execution_count": 129,
   "metadata": {},
   "outputs": [
    {
     "name": "stdout",
     "output_type": "stream",
     "text": [
      "The correlation coefficient between mouse weight and average tumor volume for the Capomulin regimen is 0.88\n"
     ]
    },
    {
     "data": {
      "image/png": "[encoded data removed]",
      "text/plain": [
       "<Figure size 432x288 with 1 Axes>"
      ]
     },
     "metadata": {
      "needs_background": "light"
     },
     "output_type": "display_data"
    }
   ],
   "source": [
    "# Calculate the correlation coefficient and linear regression model \n",
    "# for mouse weight and average tumor volume for the Capomulin regimen\n",
    "print(f\"The correlation coefficient between mouse weight and average tumor volume for the Capomulin regimen is {round(st.pearsonr(x3_axis,y1_values)[0],2)}\")\n",
    "\n",
    "vc_slope, vc_int, vc_r, vc_p, vc_std_err = st.linregress(x3_axis, y1_values)\n",
    "vc_fit = vc_slope * x3_axis + vc_int\n",
    "\n",
    "plt.scatter(x3_axis, y1_values)\n",
    "plt.plot(x3_axis,vc_fit,\"--\")\n",
    "plt.xticks(x3_axis, rotation=90)\n",
    "plt.xlabel('Weight')\n",
    "plt.ylabel('Tumor Volume')\n",
    "plt.show()"
   ]
  },
  {
   "cell_type": "code",
   "execution_count": null,
   "metadata": {},
   "outputs": [],
   "source": []
  }
 ],
 "metadata": {
  "anaconda-cloud": {},
  "kernelspec": {
   "display_name": "Python 3",
   "language": "python",
   "name": "python3"
  },
  "language_info": {
   "codemirror_mode": {
    "name": "ipython",
    "version": 3
   },
   "file_extension": ".py",
   "mimetype": "text/x-python",
   "name": "python",
   "nbconvert_exporter": "python",
   "pygments_lexer": "ipython3",
   "version": "3.6.10"
  }
 },
 "nbformat": 4,
 "nbformat_minor": 2
}
